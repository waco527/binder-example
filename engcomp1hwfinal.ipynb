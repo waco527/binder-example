{
 "cells": [
  {
   "cell_type": "code",
   "execution_count": 1,
   "metadata": {},
   "outputs": [],
   "source": [
    "import numpy\n",
    "from matplotlib import pyplot\n",
    "%matplotlib inline\n",
    "pyplot.rc('font', family='serif', size='18')\n",
    "\n",
    "\n",
    "from matplotlib import cm\n",
    "from matplotlib.colors import ListedColormap, LinearSegmentedColormap\n",
    "\n",
    "\n"
   ]
  },
  {
   "cell_type": "code",
   "execution_count": 2,
   "metadata": {},
   "outputs": [],
   "source": [
    "fname = './data/land_global_temperature_anomaly-1880-2016.csv'\n",
    "\n",
    "year, temp_anomaly = numpy.loadtxt(fname, delimiter=',', skiprows=5, unpack=True)\n",
    "    \n",
    "    \n"
   ]
  },
  {
   "cell_type": "code",
   "execution_count": null,
   "metadata": {},
   "outputs": [],
   "source": []
  },
  {
   "cell_type": "code",
   "execution_count": 3,
   "metadata": {},
   "outputs": [
    {
     "name": "stdout",
     "output_type": "stream",
     "text": [
      "<matplotlib.colors.ListedColormap object at 0x000002180F75F7C8>\n",
      "viridis.colors [[0.267004 0.004874 0.329415 1.      ]\n",
      " [0.283072 0.130895 0.449241 1.      ]\n",
      " [0.262138 0.242286 0.520837 1.      ]\n",
      " [0.220057 0.343307 0.549413 1.      ]\n",
      " [0.177423 0.437527 0.557565 1.      ]\n",
      " [0.143343 0.522773 0.556295 1.      ]\n",
      " [0.119512 0.607464 0.540218 1.      ]\n",
      " [0.166383 0.690856 0.496502 1.      ]\n",
      " [0.319809 0.770914 0.411152 1.      ]\n",
      " [0.525776 0.833491 0.288127 1.      ]\n",
      " [0.762373 0.876424 0.137064 1.      ]\n",
      " [0.993248 0.906157 0.143936 1.      ]]\n",
      "viridis(range(12)) [[0.267004 0.004874 0.329415 1.      ]\n",
      " [0.283072 0.130895 0.449241 1.      ]\n",
      " [0.262138 0.242286 0.520837 1.      ]\n",
      " [0.220057 0.343307 0.549413 1.      ]\n",
      " [0.177423 0.437527 0.557565 1.      ]\n",
      " [0.143343 0.522773 0.556295 1.      ]\n",
      " [0.119512 0.607464 0.540218 1.      ]\n",
      " [0.166383 0.690856 0.496502 1.      ]\n",
      " [0.319809 0.770914 0.411152 1.      ]\n",
      " [0.525776 0.833491 0.288127 1.      ]\n",
      " [0.762373 0.876424 0.137064 1.      ]\n",
      " [0.993248 0.906157 0.143936 1.      ]]\n",
      "viridis(np.linspace(0, 1, 12)) [[0.267004 0.004874 0.329415 1.      ]\n",
      " [0.283072 0.130895 0.449241 1.      ]\n",
      " [0.262138 0.242286 0.520837 1.      ]\n",
      " [0.220057 0.343307 0.549413 1.      ]\n",
      " [0.177423 0.437527 0.557565 1.      ]\n",
      " [0.143343 0.522773 0.556295 1.      ]\n",
      " [0.119512 0.607464 0.540218 1.      ]\n",
      " [0.166383 0.690856 0.496502 1.      ]\n",
      " [0.319809 0.770914 0.411152 1.      ]\n",
      " [0.525776 0.833491 0.288127 1.      ]\n",
      " [0.762373 0.876424 0.137064 1.      ]\n",
      " [0.993248 0.906157 0.143936 1.      ]]\n"
     ]
    },
    {
     "data": {
      "image/png": "[encoded data removed]",
      "text/plain": [
       "<Figure size 432x216 with 4 Axes>"
      ]
     },
     "metadata": {
      "needs_background": "light"
     },
     "output_type": "display_data"
    }
   ],
   "source": [
    "import numpy as np\n",
    "import matplotlib.pyplot as plt\n",
    "from matplotlib import cm\n",
    "from matplotlib.colors import ListedColormap, LinearSegmentedColormap\n",
    "\n",
    "viridis = cm.get_cmap('viridis', 12)\n",
    "print(viridis)\n",
    "    \n",
    "print('viridis.colors', viridis.colors)\n",
    "print('viridis(range(12))', viridis(range(12)))\n",
    "print('viridis(np.linspace(0, 1, 12))', viridis(np.linspace(0, 1, 12)))\n",
    "    \n",
    "viridis = cm.get_cmap('viridis', 256)\n",
    "newcolors = viridis(np.linspace(0, 1, 256))\n",
    "pink = np.array([248/256, 24/256, 148/256, 1])\n",
    "newcolors[:25, :] = pink\n",
    "newcmp = ListedColormap(newcolors)\n",
    "\n",
    "\n",
    "def plot_examples(cms):\n",
    "    \"\"\"\n",
    "    helper function to plot two colormaps\n",
    "    \"\"\"\n",
    "    np.random.seed(19680801)\n",
    "    data = np.random.randn(30, 30)\n",
    "\n",
    "    fig, axs = plt.subplots(1, 2, figsize=(6, 3), constrained_layout=True)\n",
    "    for [ax, cmap] in zip(axs, cms):\n",
    "        psm = ax.pcolormesh(data, cmap=cmap, rasterized=True, vmin=-4, vmax=4)\n",
    "        fig.colorbar(psm, ax=ax)\n",
    "    plt.show()\n",
    "\n",
    "plot_examples([viridis, newcmp])"
   ]
  },
  {
   "cell_type": "code",
   "execution_count": null,
   "metadata": {},
   "outputs": [],
   "source": []
  },
  {
   "cell_type": "code",
   "execution_count": null,
   "metadata": {},
   "outputs": [],
   "source": []
  }
 ],
 "metadata": {
  "kernelspec": {
   "display_name": "Python 3",
   "language": "python",
   "name": "python3"
  },
  "language_info": {
   "codemirror_mode": {
    "name": "ipython",
    "version": 3
   },
   "file_extension": ".py",
   "mimetype": "text/x-python",
   "name": "python",
   "nbconvert_exporter": "python",
   "pygments_lexer": "ipython3",
   "version": "3.7.7"
  }
 },
 "nbformat": 4,
 "nbformat_minor": 2
}
